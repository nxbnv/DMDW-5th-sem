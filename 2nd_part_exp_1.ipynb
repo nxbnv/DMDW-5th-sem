{
  "nbformat": 4,
  "nbformat_minor": 0,
  "metadata": {
    "colab": {
      "provenance": [],
      "include_colab_link": true
    },
    "kernelspec": {
      "name": "python3",
      "display_name": "Python 3"
    },
    "language_info": {
      "name": "python"
    }
  },
  "cells": [
    {
      "cell_type": "markdown",
      "metadata": {
        "id": "view-in-github",
        "colab_type": "text"
      },
      "source": [
        "<a href=\"https://colab.research.google.com/github/nxbnv/DMDW-5th-sem/blob/main/2nd_part_exp_1.ipynb\" target=\"_parent\"><img src=\"https://colab.research.google.com/assets/colab-badge.svg\" alt=\"Open In Colab\"/></a>"
      ]
    },
    {
      "cell_type": "code",
      "execution_count": null,
      "metadata": {
        "id": "EjG25EAFd-Sc"
      },
      "outputs": [],
      "source": [
        "import numpy as np\n",
        "import pandas as pd"
      ]
    },
    {
      "cell_type": "code",
      "source": [
        "df=pd.read_csv(\"/content/drive/MyDrive/Iris.csv\")"
      ],
      "metadata": {
        "id": "oQ-TazjqeXEV"
      },
      "execution_count": null,
      "outputs": []
    },
    {
      "cell_type": "code",
      "source": [
        "df.info()"
      ],
      "metadata": {
        "colab": {
          "base_uri": "https://localhost:8080/"
        },
        "id": "Rvif1H7Eeot9",
        "outputId": "d4c8fc15-d14c-4f8b-bf93-63d33c5b85f3"
      },
      "execution_count": null,
      "outputs": [
        {
          "output_type": "stream",
          "name": "stdout",
          "text": [
            "<class 'pandas.core.frame.DataFrame'>\n",
            "RangeIndex: 150 entries, 0 to 149\n",
            "Data columns (total 6 columns):\n",
            " #   Column         Non-Null Count  Dtype  \n",
            "---  ------         --------------  -----  \n",
            " 0   Id             150 non-null    int64  \n",
            " 1   SepalLengthCm  150 non-null    float64\n",
            " 2   SepalWidthCm   150 non-null    float64\n",
            " 3   PetalLengthCm  150 non-null    float64\n",
            " 4   PetalWidthCm   150 non-null    float64\n",
            " 5   Species        150 non-null    object \n",
            "dtypes: float64(4), int64(1), object(1)\n",
            "memory usage: 7.2+ KB\n"
          ]
        }
      ]
    },
    {
      "cell_type": "code",
      "source": [
        "print(\"Mean:Computed column-wise:\");\n",
        "meanData = df.mean();\n",
        "print(meanData);"
      ],
      "metadata": {
        "colab": {
          "base_uri": "https://localhost:8080/"
        },
        "id": "68rorKrmesuq",
        "outputId": "f9f9f968-7f78-4ef6-a675-7b44f21d7dcb"
      },
      "execution_count": null,
      "outputs": [
        {
          "output_type": "stream",
          "name": "stdout",
          "text": [
            "Mean:Computed column-wise:\n",
            "Id               75.500000\n",
            "SepalLengthCm     5.843333\n",
            "SepalWidthCm      3.054000\n",
            "PetalLengthCm     3.758667\n",
            "PetalWidthCm      1.198667\n",
            "dtype: float64\n"
          ]
        },
        {
          "output_type": "stream",
          "name": "stderr",
          "text": [
            "<ipython-input-5-a3f7752b8682>:2: FutureWarning: The default value of numeric_only in DataFrame.mean is deprecated. In a future version, it will default to False. In addition, specifying 'numeric_only=None' is deprecated. Select only valid columns or specify the value of numeric_only to silence this warning.\n",
            "  meanData = df.mean();\n"
          ]
        }
      ]
    },
    {
      "cell_type": "code",
      "source": [
        "print(\"Median:Computed column-wise:\");\n",
        "\n",
        "medianData = df.median();\n",
        "\n",
        "print(medianData);"
      ],
      "metadata": {
        "colab": {
          "base_uri": "https://localhost:8080/"
        },
        "id": "uCsJvySCeyQq",
        "outputId": "d1fc4246-4719-4d94-8570-8000caa528c3"
      },
      "execution_count": null,
      "outputs": [
        {
          "output_type": "stream",
          "name": "stdout",
          "text": [
            "Median:Computed column-wise:\n",
            "Id               75.50\n",
            "SepalLengthCm     5.80\n",
            "SepalWidthCm      3.00\n",
            "PetalLengthCm     4.35\n",
            "PetalWidthCm      1.30\n",
            "dtype: float64\n"
          ]
        },
        {
          "output_type": "stream",
          "name": "stderr",
          "text": [
            "<ipython-input-6-081f61da342c>:3: FutureWarning: The default value of numeric_only in DataFrame.median is deprecated. In a future version, it will default to False. In addition, specifying 'numeric_only=None' is deprecated. Select only valid columns or specify the value of numeric_only to silence this warning.\n",
            "  medianData = df.median();\n"
          ]
        }
      ]
    },
    {
      "cell_type": "code",
      "source": [
        "\n",
        "print(\"Mode:Computed column-wise:\");\n",
        "\n",
        "modeData = df.mode();\n",
        "\n",
        "print(modeData);"
      ],
      "metadata": {
        "id": "BLK2g5Lye2vK",
        "outputId": "a703ec89-06e3-40e6-9b35-f1e74029d0aa",
        "colab": {
          "base_uri": "https://localhost:8080/"
        }
      },
      "execution_count": null,
      "outputs": [
        {
          "output_type": "stream",
          "name": "stdout",
          "text": [
            "Mode:Computed column-wise:\n",
            "      Id  SepalLengthCm  SepalWidthCm  PetalLengthCm  PetalWidthCm  \\\n",
            "0      1            5.0           3.0            1.5           0.2   \n",
            "1      2            NaN           NaN            NaN           NaN   \n",
            "2      3            NaN           NaN            NaN           NaN   \n",
            "3      4            NaN           NaN            NaN           NaN   \n",
            "4      5            NaN           NaN            NaN           NaN   \n",
            "..   ...            ...           ...            ...           ...   \n",
            "145  146            NaN           NaN            NaN           NaN   \n",
            "146  147            NaN           NaN            NaN           NaN   \n",
            "147  148            NaN           NaN            NaN           NaN   \n",
            "148  149            NaN           NaN            NaN           NaN   \n",
            "149  150            NaN           NaN            NaN           NaN   \n",
            "\n",
            "             Species  \n",
            "0        Iris-setosa  \n",
            "1    Iris-versicolor  \n",
            "2     Iris-virginica  \n",
            "3                NaN  \n",
            "4                NaN  \n",
            "..               ...  \n",
            "145              NaN  \n",
            "146              NaN  \n",
            "147              NaN  \n",
            "148              NaN  \n",
            "149              NaN  \n",
            "\n",
            "[150 rows x 6 columns]\n"
          ]
        }
      ]
    }
  ]
}