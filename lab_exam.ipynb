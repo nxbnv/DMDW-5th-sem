{
  "nbformat": 4,
  "nbformat_minor": 0,
  "metadata": {
    "colab": {
      "provenance": [],
      "authorship_tag": "ABX9TyNvI00y7YpnaTysCUGff9Y1",
      "include_colab_link": true
    },
    "kernelspec": {
      "name": "python3",
      "display_name": "Python 3"
    },
    "language_info": {
      "name": "python"
    }
  },
  "cells": [
    {
      "cell_type": "markdown",
      "metadata": {
        "id": "view-in-github",
        "colab_type": "text"
      },
      "source": [
        "<a href=\"https://colab.research.google.com/github/nxbnv/DMDW-5th-sem/blob/main/lab_exam.ipynb\" target=\"_parent\"><img src=\"https://colab.research.google.com/assets/colab-badge.svg\" alt=\"Open In Colab\"/></a>"
      ]
    },
    {
      "cell_type": "code",
      "execution_count": 2,
      "metadata": {
        "colab": {
          "base_uri": "https://localhost:8080/"
        },
        "id": "gYOYh9leUib5",
        "outputId": "9d6315a7-6b59-45c0-8812-70484260d1fc"
      },
      "outputs": [
        {
          "output_type": "stream",
          "name": "stdout",
          "text": [
            "   ID       name         m1         m2         m3         m4\n",
            "0   1      rohan  80.000000  75.000000  81.142857  78.000000\n",
            "1   2       liku  81.333333  82.000000  88.000000  82.714286\n",
            "2   3  dharmajit  70.000000  83.142857  75.000000  85.000000\n",
            "3   4     khushi  85.000000  90.000000  81.142857  82.714286\n",
            "4   5          A  81.333333  78.000000  80.000000  90.000000\n",
            "5   6     subham  90.000000  83.142857  72.000000  83.000000\n",
            "6   7    sandeep  81.333333  85.000000  90.000000  82.714286\n",
            "7   8     aditya  75.000000  83.142857  85.000000  88.000000\n",
            "8   9    asutosh  88.000000  92.000000  81.142857  75.000000\n",
            "9  10          B  81.333333  80.000000  78.000000  80.000000\n"
          ]
        }
      ],
      "source": [
        "import pandas as pd\n",
        "import numpy as np\n",
        "\n",
        "# Create a dictionary for the dataset\n",
        "data = {\n",
        "    'ID': [1, 2, 3, 4, 5, 6, 7, 8, 9, 10],\n",
        "    'name': ['rohan', 'liku', 'dharmajit', 'khushi', '', 'subham', 'sandeep', 'aditya', 'asutosh', ''],\n",
        "    'm1': [80, np.nan, 70, 85, np.nan, 90, np.nan, 75, 88, np.nan],\n",
        "    'm2': [75, 82, np.nan, 90, 78, np.nan, 85, np.nan, 92, 80],\n",
        "    'm3': [np.nan, 88, 75, np.nan, 80, 72, 90, 85, np.nan, 78],\n",
        "    'm4': [78, np.nan, 85, np.nan, 90, 83, np.nan, 88, 75, 80]\n",
        "}\n",
        "\n",
        "# Create a DataFrame\n",
        "df = pd.DataFrame(data)\n",
        "\n",
        "# Fill empty strings in 'name' column with letters A, B, C, ...\n",
        "blank_names = df[df['name'] == '']\n",
        "name_counter = 0\n",
        "for index, row in blank_names.iterrows():\n",
        "    df.at[index, 'name'] = chr(65 + name_counter)\n",
        "    name_counter += 1\n",
        "\n",
        "# Fill missing numeric values with mean of the respective columns\n",
        "numeric_cols = ['m1', 'm2', 'm3', 'm4']\n",
        "for col in numeric_cols:\n",
        "    df[col].fillna(df[col].mean(), inplace=True)\n",
        "\n",
        "print(df)\n"
      ]
    }
  ]
}