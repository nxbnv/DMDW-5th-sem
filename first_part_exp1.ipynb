{
  "nbformat": 4,
  "nbformat_minor": 0,
  "metadata": {
    "colab": {
      "provenance": [],
      "include_colab_link": true
    },
    "kernelspec": {
      "name": "python3",
      "display_name": "Python 3"
    },
    "language_info": {
      "name": "python"
    }
  },
  "cells": [
    {
      "cell_type": "markdown",
      "metadata": {
        "id": "view-in-github",
        "colab_type": "text"
      },
      "source": [
        "<a href=\"https://colab.research.google.com/github/nxbnv/DMDW-5th-sem/blob/main/first_part_exp1.ipynb\" target=\"_parent\"><img src=\"https://colab.research.google.com/assets/colab-badge.svg\" alt=\"Open In Colab\"/></a>"
      ]
    },
    {
      "cell_type": "code",
      "execution_count": null,
      "metadata": {
        "id": "cP-P2pmEVvQq"
      },
      "outputs": [],
      "source": [
        "import numpy as np\n",
        "import pandas as pd\n",
        "import math\n",
        "from scipy import stats\n",
        "\n"
      ]
    },
    {
      "cell_type": "code",
      "source": [
        "n=int(input(\"Enter The Number Of Elements:\"))\n",
        "ls=[]"
      ],
      "metadata": {
        "id": "pcIYPeS0X3ag",
        "colab": {
          "base_uri": "https://localhost:8080/"
        },
        "outputId": "71d1876c-cbd4-4cb5-ce86-d2c3c5844877"
      },
      "execution_count": null,
      "outputs": [
        {
          "name": "stdout",
          "output_type": "stream",
          "text": [
            "Enter The Number Of Elements:10\n"
          ]
        }
      ]
    },
    {
      "cell_type": "code",
      "source": [
        "for i in range(0,n):\n",
        "  temp=float(input())\n",
        "  ls.append(temp)"
      ],
      "metadata": {
        "id": "4QsTcVPhX9NV",
        "colab": {
          "base_uri": "https://localhost:8080/"
        },
        "outputId": "c9a69822-eae9-412d-f3ad-54e4f659713d"
      },
      "execution_count": null,
      "outputs": [
        {
          "name": "stdout",
          "output_type": "stream",
          "text": [
            "2.7\n",
            "2.9\n",
            "3.1\n",
            "3.4\n",
            "3.7\n",
            "4.1\n",
            "4.3\n",
            "4.7\n",
            "4.7\n",
            "40.8\n"
          ]
        }
      ]
    },
    {
      "cell_type": "code",
      "source": [
        "sum=0\n",
        "for i in range(0,n):\n",
        "  sum=sum+ls[i]\n"
      ],
      "metadata": {
        "id": "68I9UZNBZhtl"
      },
      "execution_count": null,
      "outputs": []
    },
    {
      "cell_type": "code",
      "source": [
        "mean=sum/n\n",
        "print(\"Mean: \",mean)"
      ],
      "metadata": {
        "colab": {
          "base_uri": "https://localhost:8080/"
        },
        "id": "joB1OUTQZltd",
        "outputId": "6a536619-6553-4242-cca4-aa443a7b2c40"
      },
      "execution_count": null,
      "outputs": [
        {
          "output_type": "stream",
          "name": "stdout",
          "text": [
            "Mean:  9.95\n"
          ]
        }
      ]
    },
    {
      "cell_type": "code",
      "source": [
        "ls.sort()"
      ],
      "metadata": {
        "id": "-lp-HTOaZpFl"
      },
      "execution_count": null,
      "outputs": []
    },
    {
      "cell_type": "code",
      "source": [
        "sum2=ls[int(n/2)]+ls[int(n/2)-1]\n",
        "median=sum2/2\n",
        "print(median)"
      ],
      "metadata": {
        "colab": {
          "base_uri": "https://localhost:8080/"
        },
        "id": "8wwFZyquZsTN",
        "outputId": "174dd0a0-06d3-4dcb-ba27-c60a19636dfc"
      },
      "execution_count": null,
      "outputs": [
        {
          "output_type": "stream",
          "name": "stdout",
          "text": [
            "3.55\n"
          ]
        }
      ]
    },
    {
      "cell_type": "code",
      "source": [
        "counter = 0\n",
        "max= ls[0]\n",
        "for i in ls:\n",
        "    curr_frequency = ls.count(i)\n",
        "    if(curr_frequency> counter):\n",
        "        counter = curr_frequency\n",
        "        max = i\n",
        "print(max)"
      ],
      "metadata": {
        "colab": {
          "base_uri": "https://localhost:8080/"
        },
        "id": "eE9cI0nJZvrT",
        "outputId": "b181eff7-877a-40e5-f68c-395aaa60a06f"
      },
      "execution_count": null,
      "outputs": [
        {
          "output_type": "stream",
          "name": "stdout",
          "text": [
            "2.7\n"
          ]
        }
      ]
    },
    {
      "cell_type": "code",
      "source": [
        "sum3=0\n",
        "for i in range(0,n):\n",
        "  temp=(ls[i]-mean)**2\n",
        "  sum3=sum3+temp\n",
        "var=(1/(n))*sum3\n",
        "print(var)"
      ],
      "metadata": {
        "colab": {
          "base_uri": "https://localhost:8080/"
        },
        "id": "rJ-VAMNTZyw0",
        "outputId": "cf39fa69-b854-4f2e-aae9-45f2bd7df9e5"
      },
      "execution_count": null,
      "outputs": [
        {
          "output_type": "stream",
          "name": "stdout",
          "text": [
            "40.49849999999999\n"
          ]
        }
      ]
    },
    {
      "cell_type": "code",
      "source": [
        "sd=math.sqrt(var)\n",
        "print(sd)"
      ],
      "metadata": {
        "colab": {
          "base_uri": "https://localhost:8080/"
        },
        "id": "aCu4wc4fZ_EE",
        "outputId": "00727771-1b13-472c-c622-b16b23e8cb98"
      },
      "execution_count": null,
      "outputs": [
        {
          "output_type": "stream",
          "name": "stdout",
          "text": [
            "6.363843178457495\n"
          ]
        }
      ]
    },
    {
      "cell_type": "code",
      "source": [
        "x=np.mean(ls)\n",
        "print(x)"
      ],
      "metadata": {
        "colab": {
          "base_uri": "https://localhost:8080/"
        },
        "id": "_4QBKtYXaErk",
        "outputId": "394a90c4-7299-4c74-ca38-c199582a1f53"
      },
      "execution_count": null,
      "outputs": [
        {
          "output_type": "stream",
          "name": "stdout",
          "text": [
            "11.515384615384615\n"
          ]
        }
      ]
    },
    {
      "cell_type": "code",
      "source": [
        "y=np.median(ls)\n",
        "print(y)"
      ],
      "metadata": {
        "colab": {
          "base_uri": "https://localhost:8080/"
        },
        "id": "5MrGBhIiaoTF",
        "outputId": "9d5f22f9-7cb7-43ee-c4cb-a79e5d5d6788"
      },
      "execution_count": null,
      "outputs": [
        {
          "output_type": "stream",
          "name": "stdout",
          "text": [
            "4.1\n"
          ]
        }
      ]
    },
    {
      "cell_type": "code",
      "source": [
        "z= np.std(ls)\n",
        "print(z)"
      ],
      "metadata": {
        "colab": {
          "base_uri": "https://localhost:8080/"
        },
        "id": "VyDuZwObaveb",
        "outputId": "4cf05c80-dea0-4fd7-8bbb-e9b5302de42d"
      },
      "execution_count": null,
      "outputs": [
        {
          "output_type": "stream",
          "name": "stdout",
          "text": [
            "18.807684442345373\n"
          ]
        }
      ]
    },
    {
      "cell_type": "code",
      "source": [
        "z2=np.var(ls)\n",
        "print(z2)"
      ],
      "metadata": {
        "colab": {
          "base_uri": "https://localhost:8080/"
        },
        "id": "-mq1qXHEa1GE",
        "outputId": "4f9713d8-45e7-4b45-96dd-9f98565739c0"
      },
      "execution_count": null,
      "outputs": [
        {
          "output_type": "stream",
          "name": "stdout",
          "text": [
            "353.7289940828402\n"
          ]
        }
      ]
    }
  ]
}