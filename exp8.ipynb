{
  "cells": [
    {
      "cell_type": "markdown",
      "metadata": {
        "id": "view-in-github",
        "colab_type": "text"
      },
      "source": [
        "<a href=\"https://colab.research.google.com/github/nxbnv/DMDW-5th-sem/blob/main/exp8.ipynb\" target=\"_parent\"><img src=\"https://colab.research.google.com/assets/colab-badge.svg\" alt=\"Open In Colab\"/></a>"
      ]
    },
    {
      "cell_type": "code",
      "execution_count": null,
      "metadata": {
        "colab": {
          "background_save": true,
          "base_uri": "https://localhost:8080/"
        },
        "id": "Hh_3glhzLgSJ",
        "outputId": "136faca2-82f7-4fa9-e65e-ded5b8ad5cdb"
      },
      "outputs": [
        {
          "name": "stdout",
          "output_type": "stream",
          "text": [
            "Predicted Class: Builder\n"
          ]
        }
      ],
      "source": [
        "import pandas as pd\n",
        "import numpy as np\n",
        "\n",
        "# Define the dataset\n",
        "data = {\n",
        "    'Height': [1.70, 1.90, 1.78, 1.73, 1.81, 1.73, 1.80, 1.75],\n",
        "    'Weight': [65, 85, 76, 74, 75, 70, 71, 69],\n",
        "    'Age': [20, 33, 31, 24, 35, 75, 63, 25],\n",
        "    'Class': ['Programmer', 'Builder', 'Builder', 'Programmer', 'Builder', 'Scientist', 'Scientist', 'Programmer']\n",
        "}\n",
        "\n",
        "df = pd.DataFrame(data)\n",
        "\n",
        "# Define a new data point for which we want to predict the class\n",
        "new_data_point = {\n",
        "    'Height': 1.69,\n",
        "    'Weight': 75,\n",
        "    'Age': 37,\n",
        "}\n",
        "\n",
        "# Define the value of k\n",
        "k = 5  # You can choose any value for k\n",
        "\n",
        "# Calculate Euclidean distances\n",
        "df['Distance'] = np.sqrt(\n",
        "    (df['Height'] - new_data_point['Height'])**2 +\n",
        "    (df['Weight'] - new_data_point['Weight'])**2 +\n",
        "    (df['Age'] - new_data_point['Age'])**2\n",
        ")\n",
        "\n",
        "# Sort the DataFrame by distance\n",
        "df = df.sort_values(by='Distance')\n",
        "\n",
        "# Get the k nearest neighbors\n",
        "k_nearest_neighbors = df.head(k)\n",
        "\n",
        "# Count the class occurrences in the k nearest neighbors\n",
        "class_counts = k_nearest_neighbors['Class'].value_counts()\n",
        "\n",
        "# Get the most common class among the k nearest neighbors\n",
        "predicted_class = class_counts.idxmax()\n",
        "\n",
        "print(f\"Predicted Class: {predicted_class}\")\n"
      ]
    }
  ],
  "metadata": {
    "colab": {
      "provenance": [],
      "authorship_tag": "ABX9TyNFEYnjsv1YSPs8vwAkWnJE",
      "include_colab_link": true
    },
    "kernelspec": {
      "display_name": "Python 3",
      "name": "python3"
    },
    "language_info": {
      "name": "python"
    }
  },
  "nbformat": 4,
  "nbformat_minor": 0
}